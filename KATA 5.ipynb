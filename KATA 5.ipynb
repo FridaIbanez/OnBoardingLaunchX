{
 "cells": [
  {
   "cell_type": "markdown",
   "metadata": {},
   "source": [
    "# KATA 5 operaciones aritméticas "
   ]
  },
  {
   "cell_type": "code",
   "execution_count": null,
   "metadata": {},
   "outputs": [],
   "source": [
    "tierra = 149597870\n",
    "jupiter = 778547200\n",
    "\n",
    "distancia = jupiter - tierra\n",
    "print (distancia)\n",
    "print (round(distancia * 0.621))"
   ]
  },
  {
   "cell_type": "code",
   "execution_count": null,
   "metadata": {},
   "outputs": [],
   "source": [
    "mercurio = int(input (\"Distancia al sol de mercurio\"))\n",
    "venus = int(input(\"Distancia al sol de venus\"))\n",
    "\n",
    "distancia = (mercurio - venus)\n",
    "print(abs(distancia))\n",
    "\n",
    "tierra = int(149597870)\n",
    "jupiter = int(778547200)\n",
    "\n",
    "distancia2 = tierra - jupiter\n",
    "print(abs(distancia2))\n",
    "print(abs(round(distancia2 * .0621)))"
   ]
  }
 ],
 "metadata": {
  "interpreter": {
   "hash": "aee8b7b246df8f9039afb4144a1f6fd8d2ca17a180786b69acc140d282b71a49"
  },
  "kernelspec": {
   "display_name": "Python 3.10.2 64-bit",
   "language": "python",
   "name": "python3"
  },
  "language_info": {
   "codemirror_mode": {
    "name": "ipython",
    "version": 3
   },
   "file_extension": ".py",
   "mimetype": "text/x-python",
   "name": "python",
   "nbconvert_exporter": "python",
   "pygments_lexer": "ipython3",
   "version": "3.10.2"
  },
  "orig_nbformat": 4
 },
 "nbformat": 4,
 "nbformat_minor": 2
}
