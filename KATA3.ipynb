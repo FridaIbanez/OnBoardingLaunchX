{
 "cells": [
  {
   "cell_type": "markdown",
   "metadata": {},
   "source": [
    "# Ejercicio - Escribir declaraciones"
   ]
  },
  {
   "cell_type": "code",
   "execution_count": 14,
   "metadata": {},
   "outputs": [
    {
     "name": "stdout",
     "output_type": "stream",
     "text": [
      "Asteroide cerca\n"
     ]
    }
   ],
   "source": [
    "velocidad = int(input(\"Velocidad del asteroide\"))\n",
    "\n",
    "if velocidad > 25:\n",
    "    print(\"Asteroide cerca\") \n",
    "\n",
    "else: print(\"Asteroide esta lejos\") \n",
    "\n",
    "\n"
   ]
  },
  {
   "cell_type": "code",
   "execution_count": 16,
   "metadata": {},
   "outputs": [
    {
     "name": "stdout",
     "output_type": "stream",
     "text": [
      "Todo esta bien\n"
     ]
    }
   ],
   "source": [
    "velocidad = int(input(\"Velocidad del asteroide\"))\n",
    "\n",
    "if velocidad >= 20:\n",
    "    print(\"Hay un rayo de luz, protéjase\")\n",
    "\n",
    "else: print(\"Todo esta bien\")\n"
   ]
  },
  {
   "cell_type": "markdown",
   "metadata": {},
   "source": [
    "# Uso de operadores "
   ]
  },
  {
   "cell_type": "code",
   "execution_count": 17,
   "metadata": {},
   "outputs": [
    {
     "name": "stdout",
     "output_type": "stream",
     "text": [
      "El asteroide se quemará y causara un rayo de luz\n",
      "Todo estará bien\n"
     ]
    }
   ],
   "source": [
    "tamaño = int(input(\"Tamaño del asteroide\"))\n",
    "velocidad =int(input(\"Velocidad del asteroide\"))\n",
    "\n",
    "if tamaño < 24:\n",
    "    print(\"El asteroide se quemará y causara un rayo de luz\")\n",
    "\n",
    "elif tamaño >= 25 and tamaño <=1000: \n",
    "    print (\"Asteroide golpeará la Tierra\") \n",
    "\n",
    "else: print (\"La Tierra esta en gran peligro muy grave\")\n",
    "\n",
    "\n",
    "if velocidad > 25 or velocidad >= 20: \n",
    "    print(\"Advertencia peligro\")\n",
    "\n",
    "else: print(\"Todo estará bien\")\n",
    "\n"
   ]
  },
  {
   "cell_type": "markdown",
   "metadata": {},
   "source": [
    "# KATA 5 operaciones aritméticas "
   ]
  },
  {
   "cell_type": "code",
   "execution_count": 61,
   "metadata": {},
   "outputs": [
    {
     "name": "stdout",
     "output_type": "stream",
     "text": [
      "628949330\n",
      "390577534\n"
     ]
    }
   ],
   "source": [
    "tierra = 149597870\n",
    "jupiter = 778547200\n",
    "\n",
    "distancia = jupiter - tierra\n",
    "print (distancia)\n",
    "print (round(distancia * 0.621))\n"
   ]
  },
  {
   "cell_type": "markdown",
   "metadata": {},
   "source": [
    "# Leer distancia del sol para dos planetas "
   ]
  },
  {
   "cell_type": "code",
   "execution_count": 78,
   "metadata": {},
   "outputs": [
    {
     "name": "stdout",
     "output_type": "stream",
     "text": [
      "50300000\n",
      "628949330\n",
      "39057753\n"
     ]
    }
   ],
   "source": [
    "mercurio = int(input (\"Distancia al sol de mercurio\"))\n",
    "venus = int(input(\"Distancia al sol de venus\"))\n",
    "\n",
    "distancia = (mercurio - venus)\n",
    "print(abs(distancia))\n",
    "\n",
    "tierra = int(149597870)\n",
    "jupiter = int(778547200)\n",
    "\n",
    "distancia2 = tierra - jupiter\n",
    "print(abs(distancia2))\n",
    "print(abs(round(distancia2 * .0621)))"
   ]
  },
  {
   "cell_type": "code",
   "execution_count": null,
   "metadata": {},
   "outputs": [],
   "source": []
  }
 ],
 "metadata": {
  "interpreter": {
   "hash": "767d51c1340bd893661ea55ea3124f6de3c7a262a8b4abca0554b478b1e2ff90"
  },
  "kernelspec": {
   "display_name": "Python 2.7.16 64-bit",
   "language": "python",
   "name": "python3"
  },
  "language_info": {
   "codemirror_mode": {
    "name": "ipython",
    "version": 3
   },
   "file_extension": ".py",
   "mimetype": "text/x-python",
   "name": "python",
   "nbconvert_exporter": "python",
   "pygments_lexer": "ipython3",
   "version": "3.10.2"
  },
  "orig_nbformat": 4
 },
 "nbformat": 4,
 "nbformat_minor": 2
}
