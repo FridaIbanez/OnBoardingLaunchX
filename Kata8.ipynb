{
 "cells": [
  {
   "cell_type": "markdown",
   "metadata": {},
   "source": [
    "# 1. Creación de diccionarios en Python"
   ]
  },
  {
   "cell_type": "code",
   "execution_count": 4,
   "metadata": {},
   "outputs": [
    {
     "name": "stdout",
     "output_type": "stream",
     "text": [
      "{'name': 'Mars', 'moons': '2'}\n",
      "Mars has 2 moons in total.\n"
     ]
    }
   ],
   "source": [
    "planeta = {'name': 'Mars', 'moons': '2'}\n",
    "print(planeta)\n",
    "\n",
    "name = planet.get('name')\n",
    "moon = planet.get('moons')\n",
    "\n",
    "print(f\"{name} has {moon} moons in total.\")\n"
   ]
  },
  {
   "cell_type": "code",
   "execution_count": 6,
   "metadata": {},
   "outputs": [
    {
     "name": "stdout",
     "output_type": "stream",
     "text": [
      "Mars tiene una circunferencia polar de 6752 km.\n"
     ]
    }
   ],
   "source": [
    "planet.update({'polar': 6752})\n",
    "planet.update({'equatorial': 6792})\n",
    "\n",
    "circunferencia_polar = planet.get('polar')\n",
    "\n",
    "print(f\"{name} tiene una circunferencia polar de {circunferencia_polar} km.\")"
   ]
  },
  {
   "cell_type": "markdown",
   "metadata": {},
   "source": [
    "# Programación dinámica con diccionarios"
   ]
  },
  {
   "cell_type": "code",
   "execution_count": 7,
   "metadata": {},
   "outputs": [
    {
     "name": "stdout",
     "output_type": "stream",
     "text": [
      "Número total de planetas: 12\n",
      "dict_values([0, 0, 1, 2, 79, 82, 27, 14, 5, 2, 1, 1])\n",
      "El número de lunas es igual a: 214\n",
      "Número de lunas promedio: 17.833333333333332\n"
     ]
    }
   ],
   "source": [
    "# Creating a planet moons dictionary\n",
    "\n",
    "planet_moons = {\n",
    "    'mercury': 0,\n",
    "    'venus': 0,\n",
    "    'earth': 1,\n",
    "    'mars': 2,\n",
    "    'jupiter': 79,\n",
    "    'saturn': 82,\n",
    "    'uranus': 27,\n",
    "    'neptune': 14,\n",
    "    'pluto': 5,\n",
    "    'haumea': 2,\n",
    "    'makemake': 1,\n",
    "    'eris': 1\n",
    "}\n",
    "\n",
    "\n",
    "planets = len(planet_moons.keys())\n",
    "print(\"Número total de planetas:\", planets)\n",
    "moons = planet_moons.values()\n",
    "print(moons)\n",
    "\n",
    "total_moons = 0\n",
    "\n",
    "for value in planet_moons.values():\n",
    "    total_moons = total_moons + value\n",
    "\n",
    "promedio = total_moons / planets\n",
    "\n",
    "# Displaying the total number of moons and average\n",
    "print(\"El número de lunas es igual a:\", total_moons)\n",
    "print(\"Número de lunas promedio:\", promedio)\n",
    "\n",
    "\n"
   ]
  }
 ],
 "metadata": {
  "interpreter": {
   "hash": "33541a670e8887513ebdf0f19cec6625b51694c5ef6b1c7e83282c54d5cd54e5"
  },
  "kernelspec": {
   "display_name": "Python 3.10.0 64-bit",
   "language": "python",
   "name": "python3"
  },
  "language_info": {
   "codemirror_mode": {
    "name": "ipython",
    "version": 3
   },
   "file_extension": ".py",
   "mimetype": "text/x-python",
   "name": "python",
   "nbconvert_exporter": "python",
   "pygments_lexer": "ipython3",
   "version": "3.10.2"
  },
  "orig_nbformat": 4
 },
 "nbformat": 4,
 "nbformat_minor": 2
}
