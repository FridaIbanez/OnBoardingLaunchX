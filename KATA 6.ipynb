{
 "cells": [
  {
   "cell_type": "markdown",
   "metadata": {},
   "source": [
    "# Crear y usar listas de Python"
   ]
  },
  {
   "cell_type": "code",
   "execution_count": 4,
   "metadata": {},
   "outputs": [
    {
     "name": "stdout",
     "output_type": "stream",
     "text": [
      "['Mercurio', 'Venus', 'Tierra', 'Marte', 'Jupiter', 'Saturno', 'Urano', 'Neptuno']\n"
     ]
    }
   ],
   "source": [
    "planets = [\"Mercurio\",\"Venus\", \"Tierra\", \"Marte\", \"Jupiter\",\"Saturno\", \"Urano\", \"Neptuno\"]\n",
    "print (planets)"
   ]
  },
  {
   "cell_type": "code",
   "execution_count": 8,
   "metadata": {},
   "outputs": [
    {
     "name": "stdout",
     "output_type": "stream",
     "text": [
      "['Mercurio', 'Venus', 'Tierra', 'Marte', 'Jupiter', 'Saturno', 'Urano', 'Neptuno', 'pluton', 'Pluton', 'Pluton', 'Pluton']\n",
      "pluton\n"
     ]
    }
   ],
   "source": [
    "planeta = \"Pluton\"\n",
    "planets.append(planeta)\n",
    "print (planets)\n",
    "\n",
    "print (planets [8])"
   ]
  },
  {
   "cell_type": "code",
   "execution_count": 16,
   "metadata": {},
   "outputs": [
    {
     "name": "stdout",
     "output_type": "stream",
     "text": [
      "Usa una letra mayúscula para comenzar el nombre del planeta \n",
      "7\n",
      "Here are the planets closer than Neptuno\n",
      "['Mercurio', 'Venus', 'Tierra', 'Marte', 'Jupiter', 'Saturno', 'Urano']\n",
      "Here are the planets further than Neptuno\n",
      "[]\n"
     ]
    }
   ],
   "source": [
    "planets = [\"Mercurio\",\"Venus\", \"Tierra\", \"Marte\", \"Jupiter\",\"Saturno\", \"Urano\", \"Neptuno\"]\n",
    "print (\"Usa una letra mayúscula para comenzar el nombre del planeta \")\n",
    "name = input (\"Escribe nombre de planeta:\")\n",
    "\n",
    "print (planets.index (name))\n",
    "#index es el numero de elemento de la lista\n",
    "\n",
    "planet_index= planets.index(name)\n",
    "\n",
    "print('Here are the planets closer than ' + name)\n",
    "print(planets[0:planet_index])\n",
    "\n",
    "# Muestra los planetas más lejanos al sol\n",
    "\n",
    "print('Here are the planets further than ' + name)\n",
    "print(planets[planet_index + 1:])\n"
   ]
  }
 ],
 "metadata": {
  "interpreter": {
   "hash": "aee8b7b246df8f9039afb4144a1f6fd8d2ca17a180786b69acc140d282b71a49"
  },
  "kernelspec": {
   "display_name": "Python 3.10.2 64-bit",
   "language": "python",
   "name": "python3"
  },
  "language_info": {
   "codemirror_mode": {
    "name": "ipython",
    "version": 3
   },
   "file_extension": ".py",
   "mimetype": "text/x-python",
   "name": "python",
   "nbconvert_exporter": "python",
   "pygments_lexer": "ipython3",
   "version": "3.10.2"
  },
  "orig_nbformat": 4
 },
 "nbformat": 4,
 "nbformat_minor": 2
}
